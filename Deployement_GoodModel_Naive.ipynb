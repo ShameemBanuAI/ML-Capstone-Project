{
 "cells": [
  {
   "cell_type": "code",
   "execution_count": 19,
   "id": "ed74cb8d-1f93-4ed9-9cb3-bde817bb4edb",
   "metadata": {},
   "outputs": [],
   "source": [
    "import pickle\n",
    "loaded_model=pickle.load(open(\"GoodModel_Naive.sav\",'rb'))\n",
    "result=loaded_model.predict([[21,5,False,False,False,True,False,True,False,False]])"
   ]
  },
  {
   "cell_type": "code",
   "execution_count": 20,
   "id": "69e16f7a-0b7d-4617-992d-89e25825b49c",
   "metadata": {},
   "outputs": [
    {
     "name": "stdout",
     "output_type": "stream",
     "text": [
      "Future Predictions where the HEALTH ISSUE arises for selected feature: [ True] \n"
     ]
    }
   ],
   "source": [
    "print(\"Future Predictions where the HEALTH ISSUE arises for selected feature: {} \".format(result))"
   ]
  },
  {
   "cell_type": "markdown",
   "id": "0705378b-0ed1-47ac-b64d-7117130c8c35",
   "metadata": {},
   "source": [
    "# True indicates that there is HEALTH ISSUE for the corresponding input."
   ]
  },
  {
   "cell_type": "code",
   "execution_count": null,
   "id": "b6e29c7b-d0fd-4669-bada-ec396074f1ea",
   "metadata": {},
   "outputs": [],
   "source": []
  }
 ],
 "metadata": {
  "kernelspec": {
   "display_name": "Python 3 (ipykernel)",
   "language": "python",
   "name": "python3"
  },
  "language_info": {
   "codemirror_mode": {
    "name": "ipython",
    "version": 3
   },
   "file_extension": ".py",
   "mimetype": "text/x-python",
   "name": "python",
   "nbconvert_exporter": "python",
   "pygments_lexer": "ipython3",
   "version": "3.11.2"
  }
 },
 "nbformat": 4,
 "nbformat_minor": 5
}
